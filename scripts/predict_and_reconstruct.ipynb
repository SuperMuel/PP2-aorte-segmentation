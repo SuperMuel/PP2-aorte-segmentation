{
  "nbformat": 4,
  "nbformat_minor": 0,
  "metadata": {
    "colab": {
      "provenance": [],
      "toc_visible": true,
      "gpuType": "V100"
    },
    "kernelspec": {
      "name": "python3",
      "display_name": "Python 3"
    },
    "language_info": {
      "name": "python"
    },
    "accelerator": "GPU",
    "gpuClass": "premium"
  },
  "cells": [
    {
      "cell_type": "markdown",
      "source": [
        "**Objectifs**\n",
        "\n",
        "- Charger le modèle déjà entraîné dans le [notebook précédent](https://colab.research.google.com/drive/1v8Q8t6GG97aAVGyktspZ1FS9JvCFHwZs?usp=sharing)\n",
        "\n",
        "- L'utiliser pour prédire un masque sur une simple image 2D d'un scan\n",
        "\n",
        "- Depuis le volume d'un CT-Scan, utiliser le modèle pour construire une segmentation 3D de l'aorte "
      ],
      "metadata": {
        "id": "awAE1r6i-y8P"
      }
    },
    {
      "cell_type": "code",
      "source": [
        "!pip install pynrrd\n",
        "import nrrd\n",
        "import tensorflow as tf\n",
        "from tensorflow import keras\n",
        "from pathlib import Path\n",
        "import cv2\n",
        "import numpy as np\n",
        "import matplotlib.pyplot as plt\n",
        "import os"
      ],
      "metadata": {
        "colab": {
          "base_uri": "https://localhost:8080/"
        },
        "id": "DxTTAleYJlPt",
        "outputId": "098dd313-3b6f-4fd3-fa83-2a107f662bad"
      },
      "execution_count": null,
      "outputs": [
        {
          "output_type": "stream",
          "name": "stdout",
          "text": [
            "Looking in indexes: https://pypi.org/simple, https://us-python.pkg.dev/colab-wheels/public/simple/\n",
            "Collecting pynrrd\n",
            "  Downloading pynrrd-1.0.0-py2.py3-none-any.whl (19 kB)\n",
            "Requirement already satisfied: numpy>=1.11.1 in /usr/local/lib/python3.10/dist-packages (from pynrrd) (1.22.4)\n",
            "Collecting nptyping (from pynrrd)\n",
            "  Downloading nptyping-2.5.0-py3-none-any.whl (37 kB)\n",
            "Requirement already satisfied: typing-extensions in /usr/local/lib/python3.10/dist-packages (from pynrrd) (4.5.0)\n",
            "Installing collected packages: nptyping, pynrrd\n",
            "Successfully installed nptyping-2.5.0 pynrrd-1.0.0\n"
          ]
        }
      ]
    },
    {
      "cell_type": "code",
      "source": [
        "#@title Utils\n",
        "\n",
        "def resize(image: np.ndarray, height=512, width=512) -> np.ndarray:\n",
        "    \"\"\"\n",
        "    Resizes the given input image to the specified height and width using linear interpolation.\n",
        "\n",
        "    Args:\n",
        "        image (np.ndarray): Input image to be resized.\n",
        "        height (int, optional): The desired height for the resized image. Default is 512.\n",
        "        width (int, optional): The desired width for the resized image. Default is 512.\n",
        "\n",
        "    Returns:\n",
        "        np.ndarray: The resized image with the specified height and width.\n",
        "    \"\"\"\n",
        "    return cv2.resize(image, (width, height), interpolation=cv2.INTER_LINEAR)\n",
        "\n",
        "\n",
        "def normalize(vol: np.ndarray) -> np.ndarray:\n",
        "    \"\"\"\n",
        "    Normalizes the input volume by scaling its values to the range [0, 1].\n",
        "\n",
        "    Args:\n",
        "        vol (np.ndarray): Input volume to be normalized.\n",
        "\n",
        "    Returns:\n",
        "        np.ndarray: Normalized volume with values in the range [0, 1].\n",
        "    \"\"\"\n",
        "    min, max = np.min(vol), np.max(vol)\n",
        "    return (vol - min) / (max - min)\n",
        "\n",
        "\n",
        "def apply_threshold(image: np.ndarray, threshold: float) -> np.ndarray:\n",
        "    \"\"\"\n",
        "    Applies a threshold to the input image and returns a binary mask.\n",
        "\n",
        "    Args:\n",
        "        image (np.ndarray): Input image to apply the threshold.\n",
        "        threshold (float): Threshold value between 0 and 1. All pixel values greater than the threshold\n",
        "                           will be set to 1, and all other pixel values will be set to 0.\n",
        "\n",
        "    Returns:\n",
        "        np.ndarray: Binary mask (dtype: np.uint8) resulting from applying the threshold to the input image.\n",
        "    \"\"\"\n",
        "    return ((image > threshold) * 1).astype(np.uint8)\n",
        "\n",
        "def show_image_truemask_and_predicted(image: np.ndarray,\n",
        "                                      true_mask: np.ndarray,\n",
        "                                      predicted: np.ndarray,\n",
        "                                      title: str = ''):\n",
        "    \"\"\"\n",
        "    Displays the original image, true mask, and predicted mask side by side in a matplotlib figure.\n",
        "\n",
        "    Args:\n",
        "        image (np.ndarray): Original 2D image data.\n",
        "        true_mask (np.ndarray): Ground truth mask for the input image.\n",
        "        predicted (np.ndarray): Predicted mask generated by the model.\n",
        "        title (str, optional): Title for the figure. Defaults to an empty string.\n",
        "    \"\"\"\n",
        "    fig, (ax_image, ax_true_mask, ax_predicted_mask) = plt.subplots(1, 3, sharey=True)\n",
        "\n",
        "    ax_image.imshow(image, cmap=\"gray\")\n",
        "    ax_image.set_title(\"Image\")\n",
        "\n",
        "    ax_true_mask.imshow(true_mask, cmap=\"gray\")\n",
        "    ax_true_mask.set_title(\"True mask\")\n",
        "\n",
        "    ax_predicted_mask.imshow(predicted, cmap=\"gray\")\n",
        "    ax_predicted_mask.set_title(\"Predicted\")\n",
        "\n",
        "    if title:\n",
        "        fig.suptitle(title)\n",
        "\n",
        "    fig.tight_layout()\n",
        "    fig.show()"
      ],
      "metadata": {
        "cellView": "form",
        "id": "mj1tMgNBKPKc"
      },
      "execution_count": null,
      "outputs": []
    },
    {
      "cell_type": "code",
      "source": [
        "#@title Connexion à Google Drive\n",
        "from google.colab import drive\n",
        "\n",
        "drive.mount('/content/drive')\n",
        "\n",
        "\n",
        "# SAMUEL\n",
        "PP2_drive_sam_folder = Path(\"/content\", \"drive\", \"MyDrive\", \"L3\", \"S6\", \"PP2_drive_sam\") \n",
        "\n",
        "# ILONA\n",
        "# PP2_drive_sam_folder = Path(\"/content\", \"drive\", ........,  \"PP2_drive_sam\") \n",
        "\n",
        "# ROSA\n",
        "# PP2_drive_sam_folder = Path(\"/content\", \"drive\", ........,  \"PP2_drive_sam\") \n",
        "\n",
        "# IBRAHIM\n",
        "# PP2_drive_sam_folder = Path(\"/content\", \"drive\", ........,  \"PP2_drive_sam\") \n",
        "\n",
        "\n",
        "AVT_DRIVE_FOLDER = PP2_drive_sam_folder / \"datasets\" / \"AVT\"\n",
        "\n",
        "assert AVT_DRIVE_FOLDER.exists()"
      ],
      "metadata": {
        "colab": {
          "base_uri": "https://localhost:8080/"
        },
        "id": "rrrlL0oeEHTW",
        "outputId": "ae4a8179-8a37-4bf6-8346-a70ae3dffc80"
      },
      "execution_count": null,
      "outputs": [
        {
          "output_type": "stream",
          "name": "stdout",
          "text": [
            "Mounted at /content/drive\n"
          ]
        }
      ]
    },
    {
      "cell_type": "code",
      "source": [
        "#@title Chargement du modèle\n",
        "\n",
        "MODEL_FOLDER = PP2_drive_sam_folder / 'models' / \"AVT-aortes_saines_512x512_3198-training_902-testing_10epochs_0.999124-accuracy_04-23-00h30\"\n",
        "MODEL_H5_FILE = MODEL_FOLDER /  \"AVT-aortes_saines_512x512_3198-training_902-testing_10epochs_0.999124-accuracy_04-23-00h30.h5\"\n",
        "\n",
        "assert MODEL_H5_FILE.exists()\n",
        "\n",
        "model = tf.keras.models.load_model(MODEL_H5_FILE)\n",
        "model.summary()"
      ],
      "metadata": {
        "id": "tPgo6KXxEeLa",
        "colab": {
          "base_uri": "https://localhost:8080/"
        },
        "outputId": "beed3b30-f60b-41df-808e-c546b8b7da71"
      },
      "execution_count": null,
      "outputs": [
        {
          "output_type": "stream",
          "name": "stdout",
          "text": [
            "Model: \"model\"\n",
            "__________________________________________________________________________________________________\n",
            " Layer (type)                   Output Shape         Param #     Connected to                     \n",
            "==================================================================================================\n",
            " input_1 (InputLayer)           [(None, 512, 512, 1  0           []                               \n",
            "                                )]                                                                \n",
            "                                                                                                  \n",
            " conv2d (Conv2D)                (None, 512, 512, 64  640         ['input_1[0][0]']                \n",
            "                                )                                                                 \n",
            "                                                                                                  \n",
            " conv2d_1 (Conv2D)              (None, 512, 512, 64  36928       ['conv2d[0][0]']                 \n",
            "                                )                                                                 \n",
            "                                                                                                  \n",
            " max_pooling2d (MaxPooling2D)   (None, 256, 256, 64  0           ['conv2d_1[0][0]']               \n",
            "                                )                                                                 \n",
            "                                                                                                  \n",
            " conv2d_2 (Conv2D)              (None, 256, 256, 12  73856       ['max_pooling2d[0][0]']          \n",
            "                                8)                                                                \n",
            "                                                                                                  \n",
            " conv2d_3 (Conv2D)              (None, 256, 256, 12  147584      ['conv2d_2[0][0]']               \n",
            "                                8)                                                                \n",
            "                                                                                                  \n",
            " max_pooling2d_1 (MaxPooling2D)  (None, 128, 128, 12  0          ['conv2d_3[0][0]']               \n",
            "                                8)                                                                \n",
            "                                                                                                  \n",
            " conv2d_4 (Conv2D)              (None, 128, 128, 25  295168      ['max_pooling2d_1[0][0]']        \n",
            "                                6)                                                                \n",
            "                                                                                                  \n",
            " conv2d_5 (Conv2D)              (None, 128, 128, 25  590080      ['conv2d_4[0][0]']               \n",
            "                                6)                                                                \n",
            "                                                                                                  \n",
            " max_pooling2d_2 (MaxPooling2D)  (None, 64, 64, 256)  0          ['conv2d_5[0][0]']               \n",
            "                                                                                                  \n",
            " conv2d_6 (Conv2D)              (None, 64, 64, 512)  1180160     ['max_pooling2d_2[0][0]']        \n",
            "                                                                                                  \n",
            " conv2d_7 (Conv2D)              (None, 64, 64, 512)  2359808     ['conv2d_6[0][0]']               \n",
            "                                                                                                  \n",
            " up_sampling2d (UpSampling2D)   (None, 128, 128, 51  0           ['conv2d_7[0][0]']               \n",
            "                                2)                                                                \n",
            "                                                                                                  \n",
            " concatenate (Concatenate)      (None, 128, 128, 76  0           ['up_sampling2d[0][0]',          \n",
            "                                8)                                'conv2d_5[0][0]']               \n",
            "                                                                                                  \n",
            " conv2d_8 (Conv2D)              (None, 128, 128, 25  1769728     ['concatenate[0][0]']            \n",
            "                                6)                                                                \n",
            "                                                                                                  \n",
            " conv2d_9 (Conv2D)              (None, 128, 128, 25  590080      ['conv2d_8[0][0]']               \n",
            "                                6)                                                                \n",
            "                                                                                                  \n",
            " up_sampling2d_1 (UpSampling2D)  (None, 256, 256, 25  0          ['conv2d_9[0][0]']               \n",
            "                                6)                                                                \n",
            "                                                                                                  \n",
            " concatenate_1 (Concatenate)    (None, 256, 256, 38  0           ['up_sampling2d_1[0][0]',        \n",
            "                                4)                                'conv2d_3[0][0]']               \n",
            "                                                                                                  \n",
            " conv2d_10 (Conv2D)             (None, 256, 256, 12  442496      ['concatenate_1[0][0]']          \n",
            "                                8)                                                                \n",
            "                                                                                                  \n",
            " conv2d_11 (Conv2D)             (None, 256, 256, 12  147584      ['conv2d_10[0][0]']              \n",
            "                                8)                                                                \n",
            "                                                                                                  \n",
            " up_sampling2d_2 (UpSampling2D)  (None, 512, 512, 12  0          ['conv2d_11[0][0]']              \n",
            "                                8)                                                                \n",
            "                                                                                                  \n",
            " concatenate_2 (Concatenate)    (None, 512, 512, 19  0           ['up_sampling2d_2[0][0]',        \n",
            "                                2)                                'conv2d_1[0][0]']               \n",
            "                                                                                                  \n",
            " conv2d_12 (Conv2D)             (None, 512, 512, 64  110656      ['concatenate_2[0][0]']          \n",
            "                                )                                                                 \n",
            "                                                                                                  \n",
            " conv2d_13 (Conv2D)             (None, 512, 512, 64  36928       ['conv2d_12[0][0]']              \n",
            "                                )                                                                 \n",
            "                                                                                                  \n",
            " conv2d_14 (Conv2D)             (None, 512, 512, 1)  65          ['conv2d_13[0][0]']              \n",
            "                                                                                                  \n",
            "==================================================================================================\n",
            "Total params: 7,781,761\n",
            "Trainable params: 7,781,761\n",
            "Non-trainable params: 0\n",
            "__________________________________________________________________________________________________\n"
          ]
        }
      ]
    },
    {
      "cell_type": "markdown",
      "source": [
        "# Prédiction en 2D"
      ],
      "metadata": {
        "id": "YGhJiZi_OthE"
      }
    },
    {
      "cell_type": "code",
      "source": [
        "#@title Prédiction\n",
        "\n",
        "def get_2D_prediction(resized_slice: np.ndarray, model, verbose=0) -> np.ndarray:\n",
        "    \"\"\"\n",
        "    Given a resized and normalized slice, returns the predicted mask using the provided model.\n",
        "\n",
        "    Note: This function doesn't normalize the data nor does it resize the data to the appropriate shape for the model.\n",
        "\n",
        "    Args:\n",
        "        resized_slice (np.ndarray): Input resized and normalized image slice.\n",
        "        model: Trained machine learning model to be used for making predictions.\n",
        "\n",
        "    Returns:\n",
        "        np.ndarray: The predicted mask generated by the model.\n",
        "    \"\"\"\n",
        "    to_predict = resized_slice[..., np.newaxis]\n",
        "\n",
        "    prediction = model.predict(np.expand_dims(to_predict, axis=0),verbose=verbose)\n",
        "\n",
        "    return np.squeeze(prediction)\n"
      ],
      "metadata": {
        "id": "yQsMCttsHcyh"
      },
      "execution_count": null,
      "outputs": []
    },
    {
      "cell_type": "markdown",
      "source": [
        "## Exemple :"
      ],
      "metadata": {
        "id": "h3FyLpiD_RjU"
      }
    },
    {
      "cell_type": "code",
      "source": [
        "#@title Chargement d'un dataset\n",
        "\n",
        "vol, _      = nrrd.read(AVT_DRIVE_FOLDER / 'Dongyang/D12/D12.nrrd' ) \n",
        "true_mask_vol, _ = nrrd.read(AVT_DRIVE_FOLDER / 'Dongyang/D12/D12.seg.nrrd' )"
      ],
      "metadata": {
        "id": "CBxDBUBz-rMd"
      },
      "execution_count": null,
      "outputs": []
    },
    {
      "cell_type": "code",
      "source": [
        "#@title Prédiction et affichage\n",
        "\n",
        "k = 100 # Indice de la couche selon l'axe Z à afficher\n",
        "image = vol[:,:,k]\n",
        "true_mask = true_mask_vol[:,:,k]\n",
        "\n",
        "# Resizing\n",
        "original_shape = image.shape\n",
        "resized = resize(image)\n",
        "\n",
        "# Normalisation\n",
        "normalized = normalize(resized)\n",
        "\n",
        "# Prédiction\n",
        "predicted = get_2D_prediction(normalized, model)\n",
        "\n",
        "# Resizing à la taille originale\n",
        "back_to_original_shape = resize(predicted, *original_shape)\n",
        "\n",
        "# Application d'un seuil\n",
        "THRESHOLD =0.1\n",
        "thresholded = apply_threshold(back_to_original_shape, THRESHOLD)\n",
        "\n",
        "# Affichage\n",
        "show_image_truemask_and_predicted(image, true_mask, thresholded, \n",
        "                                  title = f'Prediction - {k}ème couche - Scan D12'\n",
        ")\n"
      ],
      "metadata": {
        "colab": {
          "base_uri": "https://localhost:8080/",
          "height": 376
        },
        "id": "qlKhQBR9_3hE",
        "outputId": "93a9c386-4761-45db-ecc2-f29b0873847a"
      },
      "execution_count": null,
      "outputs": [
        {
          "output_type": "display_data",
          "data": {
            "text/plain": [
              "<Figure size 640x480 with 3 Axes>"
            ],
            "image/png": "[encoded data removed]"
          },
          "metadata": {}
        }
      ]
    },
    {
      "cell_type": "markdown",
      "source": [
        "# En 3D\n"
      ],
      "metadata": {
        "id": "swN922V9G1Q0"
      }
    },
    {
      "cell_type": "code",
      "source": [
        "def predict_3D_mask(normalized_vol: np.ndarray, model, model_shape=(512, 512), verbose=0) -> np.ndarray:\n",
        "    \"\"\"\n",
        "    Given a normalized 3D volume, predicts a 3D mask using the provided model.\n",
        "    \n",
        "    This function resizes each 2D slice of the input volume to match the model's input shape, predicts the mask using the model,\n",
        "    and then resizes the predicted mask back to the original slice shape. Note that the returned mask is not a binary mask; it\n",
        "    contains continuous values between 0 and 1 representing the model's prediction confidence.\n",
        "    \n",
        "    Args:\n",
        "        normalized_vol (np.ndarray): A 3D numpy array representing the normalized input volume.\n",
        "        model : A trained model that takes 2D slices as input and predicts the corresponding mask.\n",
        "        model_shape (tuple): The shape (height, width) that the 2D slices should be resized to before being passed to the model.\n",
        "    \n",
        "    Returns:\n",
        "        np.ndarray: A 3D numpy array of the same shape as the input volume, representing the predicted mask. Note that the\n",
        "                    returned mask is not binary and contains continuous values between 0 and 1.\n",
        "    \"\"\"\n",
        "    mask = np.zeros_like(normalized_vol)\n",
        "    H, W, Z = normalized_vol.shape\n",
        "\n",
        "    for z in range(Z):\n",
        "        image = normalized_vol[:, :, z]\n",
        "        resized = resize(image, *model_shape)  # Resize to fit the model input shape\n",
        "        predicted = get_2D_prediction(resized, model, verbose=verbose)\n",
        "        resized = resize(predicted, H, W)  # Resize back to the original image shape\n",
        "        mask[:, :, z] = resized\n",
        "    return mask\n"
      ],
      "metadata": {
        "id": "2vCwgtIaPdsm"
      },
      "execution_count": null,
      "outputs": []
    },
    {
      "cell_type": "markdown",
      "source": [
        "Pour reconstruire un volume de taille $512\\times666\\times136$ il faut:\n",
        " \n",
        "- **20 minutes** sur l'environnement classqiue colab !  \n",
        "- **9 secondes** avec GPU Premium. Il serait même possible de faire plus rapide en parallélisant la boucle for précédente"
      ],
      "metadata": {
        "id": "GR7bVt0Ddtl-"
      }
    },
    {
      "cell_type": "markdown",
      "source": [
        "## Comment enregistrer le masque ?\n",
        "\n",
        "Disons que nous avons obtenu le masque 3D pour un scan : \n",
        "\n",
        "```python\n",
        "predicted_mask =  predict_3D_mask(normalized_vol, model)\n",
        "thresholded = apply_threshold(predicted_mask, THRESHOLD)\n",
        "```\n",
        "**Comment enregistrer la segmentation 3D dans un fichier .nnrd ?**\n",
        "\n",
        "### Naïvement : \n",
        "```python\n",
        "nrrd.write('prediction.nrrd', thresholded)\n",
        "```\n",
        "\n",
        "Cette méthode pose un problème : \n",
        "\n",
        "![](https://cdn.discordapp.com/attachments/1050788953038540871/1105194908454760520/image.png)\n",
        "\n",
        "Le résultat de la segmentation apparaît \"écrasé\", et si on la superpose avec le scan dans 3D Slicer par exemple, elle sera complètement décentrée.\n",
        "\n",
        "### Explication du problème\n",
        "\n",
        "Comme nous avons vu plus tôt, chaque fichier **.nnrd** vient avec un *header*, qui contient des metedata.\n",
        "\n",
        "Analysons le *header* du fichier **D12** ouvert précédemment :  \n",
        "\n",
        "```python\n",
        "OrderedDict([('type', 'short'),\n",
        "             ('dimension', 3),\n",
        "             ('space', 'left-posterior-superior'),\n",
        "             ('sizes', array([512, 666, 136])),\n",
        "             ('space directions',\n",
        "              array([[0.68359375, 0.        , 0.        ],\n",
        "                     [0.        , 0.68359375, 0.        ],\n",
        "                     [0.        , 0.        , 2.99259259]])),\n",
        "             ('kinds', ['domain', 'domain', 'domain']),\n",
        "             ('endian', 'little'),\n",
        "             ('encoding', 'gzip'),\n",
        "             ('space origin', array([ -171.15   ,   -57.33672, -1023.9001 ]))])\n",
        "```\n",
        "\n",
        "Trois attibuts sont à observer : (https://teem.sourceforge.net/nrrd/format.html#general.4)\n",
        "\n",
        "- `space directions` : **Chaque colonne correspond à la direction et distance physique d'un axe**. Par défault, l'attribut est égal à la matrice identité. Ici nous pouvons voir que c'est une matrice diagonale, et elle définit donc un repère orthonormé dans le monde réel. Mais ici nous pouvons observer que pour dans la troisième dimension, (l'axe Z), la distance physique est de 3, tandis pour les autres dimensions elle est de 0.68. Ainsi, lorsqu'on sauvegarde notre segmentation sans ce *header*, les distances physiques des trois dimensions sont considérées comme égales et nous obtenous une segmentation \"compressée\".\n",
        "\n",
        "- `space`: **Le système de coordonnées utilisé**. Ici, 'left-posterior-superior' **(LPS)** est un système courant en imagerie médicale, indiquant que les trois axes du repère pointent vers la gauche, l'arrière et le dessus du patient.\n",
        "\n",
        "- `space origin` **détermine les coordonnées physiques du premier voxel**. Par défaut, ce vecteur est $[0,\\ 0,\\ 0]$ et donc la segmentation apparaît décentrée par rapport au volume si on ne le spécifie pas. \n",
        "\n",
        "\n",
        "### Solution\n",
        "\n",
        "On **enregistre le *header*** lors du chargement du volume :\n",
        "\n",
        "```python\n",
        "vol, vol_header  = nrrd.read('/D12.nrrd') \n",
        "```\n",
        "\n",
        "On en fait **une copie** que nous modifions si besoin pour le masque, puis on l'utilise pour enregistrer la segmentation.\n",
        "\n",
        "```python\n",
        "mask_header = vol_header.copy()\n",
        "\n",
        "mask_header['type'] = 'uint8'\n",
        "mask_header['encoding'] = 'gzip' # ou 'raw' pour pas de compression\n",
        "\n",
        "# Enregistrement du masque avec le nouveau header\n",
        "nrrd.write('output.nrrd', predicted_3D_mask, header=mask_header)\n",
        "```\n"
      ],
      "metadata": {
        "id": "LA4kQjO-SqaF"
      }
    },
    {
      "cell_type": "markdown",
      "source": [
        "# Tests de différents seuils\n"
      ],
      "metadata": {
        "id": "nvflNfs6fIJh"
      }
    },
    {
      "cell_type": "code",
      "source": [
        "#@title Chargement et prédiction de D12 \n",
        "\n",
        "vol, vol_header      = nrrd.read(AVT_DRIVE_FOLDER / 'Dongyang/D12/D12.nrrd' ) \n",
        "normalized_vol = normalize(vol)\n",
        "predicted_mask = predict_3D_mask(normalized_vol, model)\n",
        "\n",
        "mask_header = vol_header.copy()\n",
        "mask_header['type'] = 'uint8'\n",
        "mask_header['encoding'] = 'raw'"
      ],
      "metadata": {
        "id": "DqKyDowufMB-"
      },
      "execution_count": null,
      "outputs": []
    },
    {
      "cell_type": "code",
      "source": [
        "#@title Enregistrement\n",
        "\n",
        "predictions_folder = MODEL_FOLDER / 'predictions'\n",
        "os.makedirs(predictions_folder, exist_ok=True)\n",
        "\n",
        "for threshold in np.linspace(0.3, 0.9, 1):\n",
        "  threshold = int(threshold*1000)/1000\n",
        "  mask = apply_threshold(predicted_mask, threshold)\n",
        "  nrrd.write(str(predictions_folder / f\"D12_predicted_mask_treshold-{threshold}.nrrd\"), mask, header=mask_header)\n",
        "  print(f\"done for {threshold=}\")\n"
      ],
      "metadata": {
        "colab": {
          "base_uri": "https://localhost:8080/"
        },
        "id": "sYosX7t_pYhg",
        "outputId": "1f02302c-1ae2-4f67-a8bd-c895dbe54f0d"
      },
      "execution_count": null,
      "outputs": [
        {
          "output_type": "stream",
          "name": "stdout",
          "text": [
            "done for threshold=0.3\n",
            "done for threshold=0.32\n",
            "done for threshold=0.341\n",
            "done for threshold=0.362\n",
            "done for threshold=0.382\n",
            "done for threshold=0.403\n",
            "done for threshold=0.424\n",
            "done for threshold=0.444\n",
            "done for threshold=0.465\n",
            "done for threshold=0.486\n",
            "done for threshold=0.506\n",
            "done for threshold=0.527\n",
            "done for threshold=0.548\n",
            "done for threshold=0.568\n",
            "done for threshold=0.589\n",
            "done for threshold=0.61\n",
            "done for threshold=0.631\n",
            "done for threshold=0.651\n",
            "done for threshold=0.672\n",
            "done for threshold=0.693\n",
            "done for threshold=0.713\n",
            "done for threshold=0.734\n",
            "done for threshold=0.755\n",
            "done for threshold=0.775\n",
            "done for threshold=0.796\n",
            "done for threshold=0.817\n",
            "done for threshold=0.837\n",
            "done for threshold=0.858\n",
            "done for threshold=0.879\n",
            "done for threshold=0.9\n"
          ]
        }
      ]
    },
    {
      "cell_type": "markdown",
      "source": [
        "## Résultats de différents seuils pour D12\n",
        "\n",
        "Exemple pour un seuil de 0.01 :\n",
        "\n",
        "![Seuil 0.01](https://file.notion.so/f/s/eeb682a0-1adf-4365-aba1-328d85b86e91/Untitled.png?id=9676965d-fcb7-438f-8bf3-f97e5314248a&table=block&spaceId=a554b4dc-3540-4db0-bc2e-a33eab2f226f&expirationTimestamp=1683673439153&signature=5mKwV4FnGQyautrQ4RzSmaZxAc_1FJkvyfKqXGWwx3Y&downloadName=Untitled.png)\n",
        "\n",
        "Tous les exemples : https://www.notion.so/supermuel/Reconstruction-3D-a75542cef90246dfbe4108bbcbded21a\n",
        "\n"
      ],
      "metadata": {
        "id": "XkV4kigVikIS"
      }
    },
    {
      "cell_type": "markdown",
      "source": [],
      "metadata": {
        "id": "lQHVTfAaooV3"
      }
    },
    {
      "cell_type": "markdown",
      "source": [
        "# Reconstruction 3D en masse\n",
        "\n",
        "**Objectif** : Charger plein de modèles de test, les reconstruire et exporter les masques compressés pour pouvoir les visualiser avec 3D slicer"
      ],
      "metadata": {
        "id": "Fq8qMlUH5Trc"
      }
    },
    {
      "cell_type": "code",
      "source": [
        "#@title Util\n",
        "from typing import Tuple, Dict\n",
        "\n",
        "CT_extremas = {\n",
        " 'D1':  {'min': -1024, 'max': 3071},\n",
        " 'D2':  {'min': -1024, 'max': 3071},\n",
        " 'D3':  {'min': -1024, 'max': 6484},\n",
        " 'D4':  {'min': -1024, 'max': 3071},\n",
        " 'D5':  {'min': -1024, 'max': 3071},\n",
        " 'D6':  {'min': -1024, 'max': 3071},\n",
        " 'D7':  {'min': -1024, 'max': 3071},\n",
        " 'D8':  {'min': -1024, 'max': 3071},\n",
        " 'D9':  {'min': -1024, 'max': 2993},\n",
        " 'D10': {'min': -1024, 'max': 3071},\n",
        " 'D11': {'min': -1024, 'max': 3071},\n",
        " 'D12': {'min': -1024, 'max': 3071},\n",
        " 'D13': {'min': -1024, 'max': 2576},\n",
        " 'D14': {'min': -1024, 'max': 3071},\n",
        " 'D15': {'min': -1024, 'max': 3071},\n",
        " 'D16': {'min': -1024, 'max': 3071},\n",
        " 'D17': {'min': -1024, 'max': 14542},\n",
        " 'D18': {'min': -1024, 'max': 3071},\n",
        "\n",
        " 'K1':  {'min': 0,     'max': 4095},\n",
        " 'K2':  {'min': 0,     'max': 4095},\n",
        " 'K3':  {'min': 0,     'max': 4095},\n",
        " 'K4':  {'min': 0,     'max': 4095},\n",
        " 'K5':  {'min': 0,     'max': 4095},\n",
        " 'K6':  {'min': 0,     'max': 4095},\n",
        " 'K7':  {'min': 0,     'max': 4054},\n",
        " 'K8':  {'min': 0,     'max': 4095},\n",
        " 'K9':  {'min': 0,     'max': 3522},\n",
        " 'K10': {'min': 0,     'max': 3993},\n",
        " 'K11': {'min': 0,     'max': 2704},\n",
        " 'K12': {'min': 0,     'max': 3531},\n",
        " 'K13': {'min': 0,     'max': 4095},\n",
        " 'K14': {'min': 0,     'max': 4045},\n",
        " 'K15': {'min': 0,     'max': 3259},\n",
        " 'K16': {'min': 0,     'max': 4055},\n",
        " 'K17': {'min': 0,     'max': 2505},\n",
        " 'K18': {'min': -2048, 'max': 5064},\n",
        " 'K19': {'min': 0,     'max': 2636},\n",
        " 'K20': {'min': 0,     'max': 4094},\n",
        "\n",
        " 'R3':  {'min': 0, 'max': 4095},\n",
        " 'R4':  {'min': 0, 'max': 2679},\n",
        " 'R9':  {'min': 0, 'max': 4095},\n",
        " 'R10': {'min': 0, 'max': 4095},\n",
        " 'R11': {'min': 0, 'max': 4095},\n",
        " 'R12': {'min': 0, 'max': 4095},\n",
        " 'R13': {'min': 0, 'max': 4095},\n",
        " 'R14': {'min': 0, 'max': 4095},\n",
        " 'R15': {'min': 0, 'max': 4095},\n",
        " 'R16': {'min': 0, 'max': 4095},\n",
        " 'R17': {'min': 0, 'max': 4095},\n",
        " 'R18': {'min': 0, 'max': 2880}\n",
        " }\n",
        "\n",
        "\n",
        "def ct_name_from_path(volume_path:Path)->str:\n",
        "  return volume_path.parts[-1].split('.')[0]\n",
        "\n",
        "def load_and_normalize_volume(volume_path:Path)->np:\n",
        "    \n",
        "    # Open the volume file located at the given path, normalize its values, and return a NumPy array.\n",
        "\n",
        "    # This function inspects the path to determine which CT-Scan it refers to and uses the CT_extremas\n",
        "    # dictionary to perform an optimal normalization.\n",
        "\n",
        "    # The file targeted by volume_path must be in the format XX.nrrd, where XX corresponds to a key in\n",
        "    # CT_extremas.\n",
        "\n",
        "    # Args:\n",
        "    #     volume_path (Path): The path of the volume file to load and normalize.\n",
        "\n",
        "    # Returns:\n",
        "    #     np.ndarray: A NumPy array containing the normalized volume data.\n",
        "\n",
        "    # Example:\n",
        "    #     normalized_volume = load_and_normalize_volume(Path('CT-01.nrrd'))\n",
        "\n",
        "  \n",
        "  ct_name = ct_name_from_path(volume_path)\n",
        "  extremas = CT_extremas[ct_name]\n",
        "  min, max = extremas['min'], extremas['max']\n",
        "\n",
        "  vol, header = nrrd.read(volume_path)\n",
        "\n",
        "  vol[vol < min] = min\n",
        "  vol[vol > max] = max\n",
        "  vol -= min\n",
        "  return vol / (max-min), header\n",
        "\n"
      ],
      "metadata": {
        "cellView": "form",
        "id": "kz5VFe9qoNEW"
      },
      "execution_count": null,
      "outputs": []
    },
    {
      "cell_type": "code",
      "source": [
        "#@title Définition des volumes de test\n",
        "\n",
        "from pathlib import Path\n",
        "\n",
        "testing_images_paths = [Path('/content/drive/MyDrive/L3/S6/PP2_drive_sam/datasets/AVT/Dongyang/D15/D15.nrrd'),\n",
        " Path('/content/drive/MyDrive/L3/S6/PP2_drive_sam/datasets/AVT/Dongyang/D16/D16.nrrd'),\n",
        " Path('/content/drive/MyDrive/L3/S6/PP2_drive_sam/datasets/AVT/Dongyang/D17/D17.nrrd'),\n",
        " Path('/content/drive/MyDrive/L3/S6/PP2_drive_sam/datasets/AVT/Dongyang/D18/D18.nrrd'),\n",
        " Path('/content/drive/MyDrive/L3/S6/PP2_drive_sam/datasets/AVT/KiTS/K17/K17.nrrd'),\n",
        " Path('/content/drive/MyDrive/L3/S6/PP2_drive_sam/datasets/AVT/KiTS/K18/K18.nrrd'),\n",
        " Path('/content/drive/MyDrive/L3/S6/PP2_drive_sam/datasets/AVT/KiTS/K19/K19.nrrd'),\n",
        " Path('/content/drive/MyDrive/L3/S6/PP2_drive_sam/datasets/AVT/KiTS/K20/K20.nrrd'),\n",
        " Path('/content/drive/MyDrive/L3/S6/PP2_drive_sam/datasets/AVT/Rider/R16/R16.nrrd'),\n",
        " Path('/content/drive/MyDrive/L3/S6/PP2_drive_sam/datasets/AVT/Rider/R17/R17.nrrd'),\n",
        " Path('/content/drive/MyDrive/L3/S6/PP2_drive_sam/datasets/AVT/Rider/R18/R18.nrrd')]"
      ],
      "metadata": {
        "id": "mG5vob9r5o1z"
      },
      "execution_count": null,
      "outputs": []
    },
    {
      "cell_type": "code",
      "source": [
        "#@title Constantes\n",
        "\n",
        "PREDICTIONS_FOLDER = MODEL_FOLDER / 'predictions'\n",
        "THRESHOLDS = [0.1,0.2,0.3,0.4,0.5,0.6,0.7,0.8,0.9]"
      ],
      "metadata": {
        "id": "cjtWg_neofe1"
      },
      "execution_count": null,
      "outputs": []
    },
    {
      "cell_type": "code",
      "source": [
        "#@title Le script\n",
        "\n",
        "print(f'Début de la reconstruction de tous les volumes de tests : {\" \".join([ct_name_from_path(p) for p in testing_images_paths])}')\n",
        "for path in testing_images_paths:\n",
        "  name = ct_name_from_path(path)\n",
        "\n",
        "  # Chargement et prédiction\n",
        "  print(f'Chargement de {name}')\n",
        "  normalized_vol, vol_header = load_and_normalize_volume(path)\n",
        "  predicted_mask = predict_3D_mask(normalized_vol, model)\n",
        "\n",
        "  # Header du masque\n",
        "  mask_header = vol_header.copy()\n",
        "  mask_header['type'] = 'uint8'\n",
        "  mask_header['encoding'] = 'gzip'\n",
        "\n",
        "  for threshold in THRESHOLDS:\n",
        "    thresholded = apply_threshold(predicted_mask, threshold)\n",
        "\n",
        "    # Chemin de sauvegarde\n",
        "    folder = PREDICTIONS_FOLDER / name\n",
        "    os.makedirs(folder, exist_ok=True)\n",
        "    file = folder / f'{name}-prediction-threshold-{threshold:.4f}.nrrd'\n",
        "\n",
        "    # Ecriture\n",
        "    nrrd.write(str(file), thresholded, header=mask_header)\n",
        "    print(f\"  Enregistrement du masque de {name} avec seuil de {threshold}\")\n",
        "\n",
        "print(\"Terminé ✅\")\n"
      ],
      "metadata": {
        "colab": {
          "base_uri": "https://localhost:8080/"
        },
        "id": "vbAd6mx1ndvf",
        "outputId": "af6c5c3b-8d0c-4395-8228-04e479db52bd"
      },
      "execution_count": null,
      "outputs": [
        {
          "output_type": "stream",
          "name": "stdout",
          "text": [
            "Début de la reconstruction de tous les volumes de tests : D15 D16 D17 D18 K17 K18 K19 K20 R16 R17 R18\n",
            "Chargement de D15\n",
            "  Enregistrement du masque de D15 avec seuil de 0.1\n",
            "  Enregistrement du masque de D15 avec seuil de 0.2\n",
            "  Enregistrement du masque de D15 avec seuil de 0.3\n",
            "  Enregistrement du masque de D15 avec seuil de 0.4\n",
            "  Enregistrement du masque de D15 avec seuil de 0.5\n",
            "  Enregistrement du masque de D15 avec seuil de 0.6\n",
            "  Enregistrement du masque de D15 avec seuil de 0.7\n",
            "  Enregistrement du masque de D15 avec seuil de 0.8\n",
            "  Enregistrement du masque de D15 avec seuil de 0.9\n",
            "Chargement de D16\n",
            "  Enregistrement du masque de D16 avec seuil de 0.1\n",
            "  Enregistrement du masque de D16 avec seuil de 0.2\n",
            "  Enregistrement du masque de D16 avec seuil de 0.3\n",
            "  Enregistrement du masque de D16 avec seuil de 0.4\n",
            "  Enregistrement du masque de D16 avec seuil de 0.5\n",
            "  Enregistrement du masque de D16 avec seuil de 0.6\n",
            "  Enregistrement du masque de D16 avec seuil de 0.7\n",
            "  Enregistrement du masque de D16 avec seuil de 0.8\n",
            "  Enregistrement du masque de D16 avec seuil de 0.9\n",
            "Chargement de D17\n",
            "  Enregistrement du masque de D17 avec seuil de 0.1\n",
            "  Enregistrement du masque de D17 avec seuil de 0.2\n",
            "  Enregistrement du masque de D17 avec seuil de 0.3\n",
            "  Enregistrement du masque de D17 avec seuil de 0.4\n",
            "  Enregistrement du masque de D17 avec seuil de 0.5\n",
            "  Enregistrement du masque de D17 avec seuil de 0.6\n",
            "  Enregistrement du masque de D17 avec seuil de 0.7\n",
            "  Enregistrement du masque de D17 avec seuil de 0.8\n",
            "  Enregistrement du masque de D17 avec seuil de 0.9\n",
            "Chargement de D18\n",
            "  Enregistrement du masque de D18 avec seuil de 0.1\n",
            "  Enregistrement du masque de D18 avec seuil de 0.2\n",
            "  Enregistrement du masque de D18 avec seuil de 0.3\n",
            "  Enregistrement du masque de D18 avec seuil de 0.4\n",
            "  Enregistrement du masque de D18 avec seuil de 0.5\n",
            "  Enregistrement du masque de D18 avec seuil de 0.6\n",
            "  Enregistrement du masque de D18 avec seuil de 0.7\n",
            "  Enregistrement du masque de D18 avec seuil de 0.8\n",
            "  Enregistrement du masque de D18 avec seuil de 0.9\n",
            "Chargement de K17\n",
            "  Enregistrement du masque de K17 avec seuil de 0.1\n",
            "  Enregistrement du masque de K17 avec seuil de 0.2\n",
            "  Enregistrement du masque de K17 avec seuil de 0.3\n",
            "  Enregistrement du masque de K17 avec seuil de 0.4\n",
            "  Enregistrement du masque de K17 avec seuil de 0.5\n",
            "  Enregistrement du masque de K17 avec seuil de 0.6\n",
            "  Enregistrement du masque de K17 avec seuil de 0.7\n",
            "  Enregistrement du masque de K17 avec seuil de 0.8\n",
            "  Enregistrement du masque de K17 avec seuil de 0.9\n",
            "Chargement de K18\n",
            "  Enregistrement du masque de K18 avec seuil de 0.1\n",
            "  Enregistrement du masque de K18 avec seuil de 0.2\n",
            "  Enregistrement du masque de K18 avec seuil de 0.3\n",
            "  Enregistrement du masque de K18 avec seuil de 0.4\n",
            "  Enregistrement du masque de K18 avec seuil de 0.5\n",
            "  Enregistrement du masque de K18 avec seuil de 0.6\n",
            "  Enregistrement du masque de K18 avec seuil de 0.7\n",
            "  Enregistrement du masque de K18 avec seuil de 0.8\n",
            "  Enregistrement du masque de K18 avec seuil de 0.9\n",
            "Chargement de K19\n",
            "  Enregistrement du masque de K19 avec seuil de 0.1\n",
            "  Enregistrement du masque de K19 avec seuil de 0.2\n",
            "  Enregistrement du masque de K19 avec seuil de 0.3\n",
            "  Enregistrement du masque de K19 avec seuil de 0.4\n",
            "  Enregistrement du masque de K19 avec seuil de 0.5\n",
            "  Enregistrement du masque de K19 avec seuil de 0.6\n",
            "  Enregistrement du masque de K19 avec seuil de 0.7\n",
            "  Enregistrement du masque de K19 avec seuil de 0.8\n",
            "  Enregistrement du masque de K19 avec seuil de 0.9\n",
            "Chargement de K20\n",
            "  Enregistrement du masque de K20 avec seuil de 0.1\n",
            "  Enregistrement du masque de K20 avec seuil de 0.2\n",
            "  Enregistrement du masque de K20 avec seuil de 0.3\n",
            "  Enregistrement du masque de K20 avec seuil de 0.4\n",
            "  Enregistrement du masque de K20 avec seuil de 0.5\n",
            "  Enregistrement du masque de K20 avec seuil de 0.6\n",
            "  Enregistrement du masque de K20 avec seuil de 0.7\n",
            "  Enregistrement du masque de K20 avec seuil de 0.8\n",
            "  Enregistrement du masque de K20 avec seuil de 0.9\n",
            "Chargement de R16\n",
            "  Enregistrement du masque de R16 avec seuil de 0.1\n",
            "  Enregistrement du masque de R16 avec seuil de 0.2\n",
            "  Enregistrement du masque de R16 avec seuil de 0.3\n",
            "  Enregistrement du masque de R16 avec seuil de 0.4\n",
            "  Enregistrement du masque de R16 avec seuil de 0.5\n",
            "  Enregistrement du masque de R16 avec seuil de 0.6\n",
            "  Enregistrement du masque de R16 avec seuil de 0.7\n",
            "  Enregistrement du masque de R16 avec seuil de 0.8\n",
            "  Enregistrement du masque de R16 avec seuil de 0.9\n",
            "Chargement de R17\n",
            "  Enregistrement du masque de R17 avec seuil de 0.1\n",
            "  Enregistrement du masque de R17 avec seuil de 0.2\n",
            "  Enregistrement du masque de R17 avec seuil de 0.3\n",
            "  Enregistrement du masque de R17 avec seuil de 0.4\n",
            "  Enregistrement du masque de R17 avec seuil de 0.5\n",
            "  Enregistrement du masque de R17 avec seuil de 0.6\n",
            "  Enregistrement du masque de R17 avec seuil de 0.7\n",
            "  Enregistrement du masque de R17 avec seuil de 0.8\n",
            "  Enregistrement du masque de R17 avec seuil de 0.9\n",
            "Chargement de R18\n",
            "  Enregistrement du masque de R18 avec seuil de 0.1\n",
            "  Enregistrement du masque de R18 avec seuil de 0.2\n",
            "  Enregistrement du masque de R18 avec seuil de 0.3\n",
            "  Enregistrement du masque de R18 avec seuil de 0.4\n",
            "  Enregistrement du masque de R18 avec seuil de 0.5\n",
            "  Enregistrement du masque de R18 avec seuil de 0.6\n",
            "  Enregistrement du masque de R18 avec seuil de 0.7\n",
            "  Enregistrement du masque de R18 avec seuil de 0.8\n",
            "  Enregistrement du masque de R18 avec seuil de 0.9\n",
            "Terminé ✅\n"
          ]
        }
      ]
    }
  ]
}