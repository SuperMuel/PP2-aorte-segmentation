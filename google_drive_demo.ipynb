{
  "nbformat": 4,
  "nbformat_minor": 0,
  "metadata": {
    "colab": {
      "provenance": [],
      "authorship_tag": "ABX9TyOQ+eAOaGxtui5AQbpqJsze",
      "include_colab_link": true
    },
    "kernelspec": {
      "name": "python3",
      "display_name": "Python 3"
    },
    "language_info": {
      "name": "python"
    }
  },
  "cells": [
    {
      "cell_type": "markdown",
      "metadata": {
        "id": "view-in-github",
        "colab_type": "text"
      },
      "source": [
        "<a href=\"https://colab.research.google.com/github/SuperMuel/PP2-aorte-segmentation/blob/mise_en_place_de_google_colab/google_drive_demo.ipynb\" target=\"_parent\"><img src=\"https://colab.research.google.com/assets/colab-badge.svg\" alt=\"Open In Colab\"/></a>"
      ]
    },
    {
      "cell_type": "markdown",
      "source": [
        "# Tests d'usage de google drive sur google collab.\n",
        "\n",
        "But : essayer d'accéder à un \"dossier partagé\" : le dossier \"PP2\" de rosa. \n",
        "\n",
        "https://colab.research.google.com/notebooks/io.ipynb#scrollTo=D78AM1fFt2ty"
      ],
      "metadata": {
        "id": "V26fn1dCy1hf"
      }
    },
    {
      "cell_type": "markdown",
      "source": [
        "## Première façon [ne marche pas pour nous] : By \"mounting\" the drive in the colab\n",
        "\n",
        "Problème : je ne crois pas que ce soit possible d'accéder à un dossier partagé, mais seulement notre drive à nous. "
      ],
      "metadata": {
        "id": "gv9_MZM_-ziK"
      }
    },
    {
      "cell_type": "code",
      "execution_count": null,
      "metadata": {
        "colab": {
          "base_uri": "https://localhost:8080/"
        },
        "id": "tmd6WwkDyI1n",
        "outputId": "ec8fc219-ef50-4090-fa28-901efc6ef018",
        "cellView": "form",
        "collapsed": true
      },
      "outputs": [
        {
          "output_type": "stream",
          "name": "stdout",
          "text": [
            "Mounted at /content/drive\n",
            "MyDrive  Othercomputers\n"
          ]
        }
      ],
      "source": [
        "#@title\n",
        "from google.colab import drive\n",
        "drive.mount('/content/drive')\n",
        "# ceci crée un dossier \"content\" à la racine du projet colab. \n",
        "!ls \"/content/drive\" \n",
        "\n",
        "# on aurait pu utilier drive.mount('/monDossierGoogleDrive') \n",
        "# et !ls \"/monDossierGoogleDrive\" aurait affiché les éléments du drive\n"
      ]
    },
    {
      "cell_type": "code",
      "source": [
        "#@title\n",
        "!ls \"/content/\""
      ],
      "metadata": {
        "colab": {
          "base_uri": "https://localhost:8080/"
        },
        "id": "PWF5Faiy0ok8",
        "outputId": "811234b9-a2be-4969-8a50-9ef6bafecc33",
        "cellView": "form",
        "collapsed": true
      },
      "execution_count": null,
      "outputs": [
        {
          "output_type": "stream",
          "name": "stdout",
          "text": [
            "drive  sample_data\n"
          ]
        }
      ]
    },
    {
      "cell_type": "code",
      "source": [
        "#@title\n",
        "import glob\n",
        "\n",
        "files = glob.glob(f\"/content/drive/My Drive/*\")\n",
        "for file in files:  \n",
        "  print(file)"
      ],
      "metadata": {
        "colab": {
          "base_uri": "https://localhost:8080/"
        },
        "id": "5Y4FtSYE10W2",
        "outputId": "74da823f-6bcb-4c33-d78c-a667d6fb2a7b",
        "cellView": "form",
        "collapsed": true
      },
      "execution_count": null,
      "outputs": [
        {
          "output_type": "stream",
          "name": "stdout",
          "text": [
            "/content/drive/My Drive/Google Photos\n",
            "/content/drive/My Drive/dev\n",
            "/content/drive/My Drive/Archives\n",
            "/content/drive/My Drive/umontpellier\n",
            "/content/drive/My Drive/L1\n",
            "/content/drive/My Drive/Cerveau\n",
            "/content/drive/My Drive/Boulots\n",
            "/content/drive/My Drive/Site sans titre.gsite\n",
            "/content/drive/My Drive/L2\n",
            "/content/drive/My Drive/Sup\n",
            "/content/drive/My Drive/Google Earth\n",
            "/content/drive/My Drive/L3\n",
            "/content/drive/My Drive/documents\n",
            "/content/drive/My Drive/Carte sans titre.gmap\n",
            "/content/drive/My Drive/Fiche d'appel 18 mars soir_230319_004018.pdf\n",
            "/content/drive/My Drive/sans_filtre\n",
            "/content/drive/My Drive/pj22_FDS_IAE_Formulaire_candidature_Double_Diplôme.pdf\n",
            "/content/drive/My Drive/Notes Prepa Licence.gsheet\n",
            "/content/drive/My Drive/Document sans titre.gdoc\n",
            "/content/drive/My Drive/Colab Notebooks\n"
          ]
        }
      ]
    },
    {
      "cell_type": "code",
      "source": [
        "#@title\n",
        "drive.flush_and_unmount()\n",
        "print('All changes made in this colab session should now be visible in Drive.')"
      ],
      "metadata": {
        "colab": {
          "base_uri": "https://localhost:8080/"
        },
        "id": "Y87eWUANyqWE",
        "outputId": "d47cf33c-24d1-4a86-d8cd-47adc74a6250",
        "cellView": "form",
        "collapsed": true
      },
      "execution_count": null,
      "outputs": [
        {
          "output_type": "stream",
          "name": "stdout",
          "text": [
            "All changes made in this colab session should now be visible in Drive.\n"
          ]
        }
      ]
    },
    {
      "cell_type": "markdown",
      "source": [
        "## Avec utilisation de l'API Google Drive "
      ],
      "metadata": {
        "id": "7Fjevmkj2N_u"
      }
    },
    {
      "cell_type": "code",
      "source": [
        "ROSA_PP2_DRIVE_FOLDER_ROOT_ID = \"1UMOi1v-0WRbiqLWQ9J42yDJz6s_NcqmC\"\n",
        "ROSA_PP2_DRIVE_FOLDER_TRAINING_SET_ID = \"1MsFQ39D7rHNIvxFCevbltYGeVEFrX3SZ\"\n",
        "# Voir https://www.notion.so/supermuel/Google-Colab-fd050a74b3864ddfaf85e3624d830848"
      ],
      "metadata": {
        "id": "mwn_ogtc2oWH"
      },
      "execution_count": null,
      "outputs": []
    },
    {
      "cell_type": "code",
      "source": [
        "!pip install -U -q PyDrive\n",
        "import os\n",
        "from pydrive.auth import GoogleAuth\n",
        "from pydrive.drive import GoogleDrive\n",
        "from google.colab import auth\n",
        "from oauth2client.client import GoogleCredentials\n",
        "\n",
        "# 1. Authenticate and create the PyDrive client.\n",
        "auth.authenticate_user()\n",
        "gauth = GoogleAuth()\n",
        "gauth.credentials = GoogleCredentials.get_application_default()\n",
        "drive = GoogleDrive(gauth)"
      ],
      "metadata": {
        "id": "z02kLSKr2Sdb"
      },
      "execution_count": null,
      "outputs": []
    },
    {
      "cell_type": "code",
      "source": [
        "from typing import List # Just une façon d'indiquer ce que les fonctions retournent\n",
        "from pydrive.files import GoogleDriveFile\n",
        "\n",
        "# Tout est expliqué ici : https://stackoverflow.com/a/48385944 \n",
        "\n",
        "def get_file_list_from_folder_id(folder_id:str)->List[GoogleDriveFile]:\n",
        "  \"\"\"\n",
        "  Exemple : \n",
        "\n",
        "  for file in get_file_list_from_folder_id(ROSA_PP2_DRIVE_FOLDER_TRAINING_SET_ID):\n",
        "    print(f\"{file['title']}, {file['id']}\")\n",
        "\n",
        "  \"\"\"\n",
        "  return drive.ListFile(\n",
        "    {'q': f\"'{folder_id}' in parents\"}).GetList()\n",
        "\n",
        "for file in get_file_list_from_folder_id(ROSA_PP2_DRIVE_FOLDER_TRAINING_SET_ID):\n",
        "  print(f\"{file['title']}, {file['id']}\")\n",
        "\n"
      ],
      "metadata": {
        "colab": {
          "base_uri": "https://localhost:8080/"
        },
        "id": "K6IptqpO4gtG",
        "outputId": "21975c76-2d0b-42d8-9a88-f8602dc2f13d"
      },
      "execution_count": null,
      "outputs": [
        {
          "output_type": "stream",
          "name": "stdout",
          "text": [
            "training_R4, 1g_z-Z2XtTxVlE7wsQwIP9FtYPrwXMuLg\n",
            "training_R6, 1PdzU-XhOj_a8KP3OlSwmmdqaCUY_vsZH\n",
            "training_R8, 1BOkUI36GdbmlXgmhw-G0CFJNi3040LRW\n",
            "training_R7, 1-IqxeXJfQB7cR0Gsr4BJ7MT5ZHwBbtkN\n",
            "training_R5, 1O-HkPTmG7ssgaTiGwi31DlQ_H6UQ2rli\n",
            "training_R3, 1hWGTGpVYSDK-WAGnH-YsNFrsuTtF2m39\n",
            "training_R2, 1Tag05GbsUboy7GDBwJOWXhIDzR6Jnc2H\n",
            "training_R1, 1wn9-oZH5_bBAG6vHs3BUa72cb7uukhBn\n"
          ]
        }
      ]
    }
  ]
}