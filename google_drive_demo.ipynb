{
  "nbformat": 4,
  "nbformat_minor": 0,
  "metadata": {
    "colab": {
      "provenance": [],
      "authorship_tag": "ABX9TyOipkjL3a+WdweCbBjTawB3",
      "include_colab_link": true
    },
    "kernelspec": {
      "name": "python3",
      "display_name": "Python 3"
    },
    "language_info": {
      "name": "python"
    }
  },
  "cells": [
    {
      "cell_type": "markdown",
      "metadata": {
        "id": "view-in-github",
        "colab_type": "text"
      },
      "source": [
        "<a href=\"https://colab.research.google.com/github/SuperMuel/PP2-aorte-segmentation/blob/mise_en_place_de_google_colab/google_drive_demo.ipynb\" target=\"_parent\"><img src=\"https://colab.research.google.com/assets/colab-badge.svg\" alt=\"Open In Colab\"/></a>"
      ]
    },
    {
      "cell_type": "markdown",
      "source": [
        "# Tests d'usage de google drive sur google collab.\n",
        "\n",
        "But : essayer d'accéder à un \"dossier partagé\" : le dossier \"PP2\" de rosa. \n",
        "\n",
        "https://colab.research.google.com/notebooks/io.ipynb#scrollTo=D78AM1fFt2ty\n",
        "\n",
        "Rosa est le propriétaire du dossier Google Drive. Pour elle, il lui suffit de \n",
        "```\n",
        "drive.mount('/content/drive')\n",
        "!ls \"/content/drive\"\n",
        "```\n"
      ],
      "metadata": {
        "id": "V26fn1dCy1hf"
      }
    },
    {
      "cell_type": "markdown",
      "source": [
        "## Comment le faire fonctionner : \n",
        "\n",
        "samuel_path_to_PP2_drive_folder = \"MyDrive\"\n"
      ],
      "metadata": {
        "id": "SrJwMzQYG2XF"
      }
    },
    {
      "cell_type": "code",
      "source": [
        "from google.colab import drive\n",
        "\n",
        "# Le Google Drive ce CELUI QUI EXECUTE CE COLAB est\n",
        "# monté dans le dossier /content/drive\n",
        "drive.mount('/content/drive')"
      ],
      "metadata": {
        "colab": {
          "base_uri": "https://localhost:8080/"
        },
        "id": "ehaRfNxNGohU",
        "outputId": "62e71ae1-5539-4060-f771-a21bbc849500"
      },
      "execution_count": 5,
      "outputs": [
        {
          "output_type": "stream",
          "name": "stdout",
          "text": [
            "Mounted at /content/drive\n"
          ]
        }
      ]
    },
    {
      "cell_type": "code",
      "source": [
        "# Vous pouvez voir la liste de vos fichers dans votre drive en faisant : \n",
        "\n",
        "!ls \"/content/drive/MyDrive\" "
      ],
      "metadata": {
        "colab": {
          "base_uri": "https://localhost:8080/"
        },
        "id": "Tu9CL4dLIBJg",
        "outputId": "a5840d2e-d8fe-4931-e1ac-a038fec421a1"
      },
      "execution_count": 6,
      "outputs": [
        {
          "output_type": "stream",
          "name": "stdout",
          "text": [
            " Archives\n",
            " Boulots\n",
            "'Carte sans titre.gmap'\n",
            " Cerveau\n",
            "'Colab Notebooks'\n",
            " dev\n",
            " documents\n",
            "'Document sans titre.gdoc'\n",
            "\"Fiche d'appel 18 mars soir_230319_004018.pdf\"\n",
            " Google Earth\n",
            " Google Photos\n",
            " L1\n",
            " L2\n",
            " L3\n",
            "'Notes Prepa Licence.gsheet'\n",
            " pj22_FDS_IAE_Formulaire_candidature_Double_Diplôme.pdf\n",
            " sans_filtre\n",
            "'Site sans titre.gsite'\n",
            " Sup\n",
            " umontpellier\n"
          ]
        }
      ]
    },
    {
      "cell_type": "code",
      "source": [
        "# Rosa, tu est la propriétaire du dossier PP2 où il y a les données, alors il te suffit d'accéder\n",
        "# au dossier par le chemin direct : \n",
        "\n",
        "rosa_PP2_drive_folder = '/content/drive/MyDrive/FAC/.../PP2-drive-rosa-data/'\n",
        "\n",
        "# Pour les autres, il faut créer un raccourci du dossier que rosa nous a partagé\n",
        "# vers un chemin dans NOTRE Google Drive.\n",
        "\n",
        "# Par exemple, moi Samuel je créer un raccourci vers 'L3/PP2/' et j'accède au \n",
        "# dossier par ce chemin qui m'est personnel : \n",
        "\n",
        "samuel_PP2_drive_folder = '/content/drive/MyDrive/L3/S6/projet_programmation/PP2-drive-rosa-data/'\n",
        "\n",
        "# Chaque éxécutant devra créer son propre chemin : \n",
        "\n",
        "ilona_PP2_drive_folder = '/content/drive/MyDrive/.../PP2-drive-rosa-data/'\n",
        "ibrahim_PP2_drive_folder = '/content/drive/MyDrive/.../PP2-drive-rosa-data/'\n",
        "\n",
        "\n",
        "# DECOMMENTEZ LA LIGNE CORRESPONDANTE\n",
        "\n",
        "PP2_drive_folder = samuel_PP2_drive_folder\n",
        "# PP2_drive_folder = rosa_PP2_drive_folder\n",
        "# PP2_drive_folder = ilona_PP2_drive_folder\n",
        "# PP2_drive_folder = ibrahim_PP2_drive_folder"
      ],
      "metadata": {
        "id": "qx-aG4izIISJ"
      },
      "execution_count": 18,
      "outputs": []
    },
    {
      "cell_type": "code",
      "source": [
        "# Vérifiez que vous avez bien le contenu du dossier PP2-drive-rosa-data (Celui ci : https://drive.google.com/drive/folders/1UMOi1v-0WRbiqLWQ9J42yDJz6s_NcqmC?usp=sharing)\n",
        "\n",
        "!ls {PP2_drive_folder} "
      ],
      "metadata": {
        "colab": {
          "base_uri": "https://localhost:8080/"
        },
        "id": "sn1Oa4kPKMzX",
        "outputId": "301d376e-74e3-484b-81a8-c0435f170896"
      },
      "execution_count": 24,
      "outputs": [
        {
          "output_type": "stream",
          "name": "stdout",
          "text": [
            " 1.py  'encore plus de R'   sauvegarde\t    valid\n",
            " 2.py   exemples\t   'training set'\n"
          ]
        }
      ]
    },
    {
      "cell_type": "code",
      "source": [],
      "metadata": {
        "id": "5UAkocAsLLjp"
      },
      "execution_count": null,
      "outputs": []
    },
    {
      "cell_type": "code",
      "source": [
        "import glob\n",
        "import os\n",
        "\n",
        "files = glob.glob(os.path.join(PP2_drive_folder, \"*\"))\n",
        "for file in files:  \n",
        "  print(file)"
      ],
      "metadata": {
        "colab": {
          "base_uri": "https://localhost:8080/"
        },
        "id": "5Y4FtSYE10W2",
        "outputId": "c4dfd91f-d75e-463b-98f5-8e24e2b7db68",
        "collapsed": true
      },
      "execution_count": 27,
      "outputs": [
        {
          "output_type": "stream",
          "name": "stdout",
          "text": [
            "/content/drive/MyDrive/L3/S6/projet_programmation/PP2-drive-rosa-data/training set\n",
            "/content/drive/MyDrive/L3/S6/projet_programmation/PP2-drive-rosa-data/exemples\n",
            "/content/drive/MyDrive/L3/S6/projet_programmation/PP2-drive-rosa-data/sauvegarde\n",
            "/content/drive/MyDrive/L3/S6/projet_programmation/PP2-drive-rosa-data/1.py\n",
            "/content/drive/MyDrive/L3/S6/projet_programmation/PP2-drive-rosa-data/valid\n",
            "/content/drive/MyDrive/L3/S6/projet_programmation/PP2-drive-rosa-data/2.py\n",
            "/content/drive/MyDrive/L3/S6/projet_programmation/PP2-drive-rosa-data/encore plus de R\n"
          ]
        }
      ]
    },
    {
      "cell_type": "code",
      "source": [
        "\n",
        "# Pour sauvegarder les modifications  !\n",
        "drive.flush_and_unmount()\n",
        "print('All changes made in this colab session should now be visible in Drive.')"
      ],
      "metadata": {
        "colab": {
          "base_uri": "https://localhost:8080/"
        },
        "id": "Y87eWUANyqWE",
        "outputId": "d47cf33c-24d1-4a86-d8cd-47adc74a6250",
        "collapsed": true
      },
      "execution_count": null,
      "outputs": [
        {
          "output_type": "stream",
          "name": "stdout",
          "text": [
            "All changes made in this colab session should now be visible in Drive.\n"
          ]
        }
      ]
    }
  ]
}